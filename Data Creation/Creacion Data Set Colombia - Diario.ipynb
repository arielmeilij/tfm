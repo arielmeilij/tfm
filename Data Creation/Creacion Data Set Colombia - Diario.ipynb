{
 "cells": [
  {
   "cell_type": "markdown",
   "metadata": {},
   "source": [
    "### Trabajo Final Master Ciencia de Datos y Business Analytics\n",
    "## Reporte Laboratorio Seco - Creación Datamart Sportline Colombia POS (Alterno)"
   ]
  },
  {
   "cell_type": "markdown",
   "metadata": {},
   "source": [
    "Actualización Septiembre 15, 2023"
   ]
  },
  {
   "cell_type": "markdown",
   "metadata": {},
   "source": [
    "### Introducción\n",
    "El siguiente análisis de laboratorio seco compone el archivo maestro de POS de los años 2018 al 2023 de Sportline Colombia, eliminando todos los demás clientes y preparando el archivo final para entrenamiento. La cuenta de Sportline Colombia es la cuenta número 10-2672 en los registros de la empresa. Como primer paso se lee el archivo POS Maestro para poder filtrar los diferentes datos. \n",
    "\n",
    "El archivo __alterno__ sin embargo tiene una diferencia vital: se omite el año 2020, que con sus variaciones extremas debido al COVID-19, se teoriza arruina los esfuerzos de los modelos de aprendizaje automatizado de interpretar la función de predicción."
   ]
  },
  {
   "cell_type": "code",
   "execution_count": 1,
   "metadata": {},
   "outputs": [
    {
     "name": "stderr",
     "output_type": "stream",
     "text": [
      "/var/folders/9c/f5lf7vz91zs8mwbnjbtxzjgw0000gn/T/ipykernel_15843/2346163983.py:7: DtypeWarning: Columns (5) have mixed types. Specify dtype option on import or set low_memory=False.\n",
      "  dfPOS = pd.read_csv(csv_file_path, encoding=encoding)\n"
     ]
    },
    {
     "name": "stdout",
     "output_type": "stream",
     "text": [
      "<class 'pandas.core.frame.DataFrame'>\n",
      "RangeIndex: 20650730 entries, 0 to 20650729\n",
      "Data columns (total 7 columns):\n",
      " #   Column         Dtype  \n",
      "---  ------         -----  \n",
      " 0   NO_CLIENTE     object \n",
      " 1   FECHA          object \n",
      " 2   CODIGO_MARCA   float64\n",
      " 3   NOMBRE_MODELO  object \n",
      " 4   CANTIDAD       int64  \n",
      " 5   CODIGO_TEMP    object \n",
      " 6   WEEK_OF_YEAR   object \n",
      "dtypes: float64(1), int64(1), object(5)\n",
      "memory usage: 1.1+ GB\n"
     ]
    }
   ],
   "source": [
    "# Importar y leer archivo como DF Pandas\n",
    "# Los archivos se leen de los formatos por año ya limpios\n",
    "\n",
    "import pandas as pd\n",
    "csv_file_path = '/Users/ameilij/Documents/Master Data Science/MDS/tfm/data_clean/master_POS_clean.csv'\n",
    "encoding = 'latin1'\n",
    "dfPOS = pd.read_csv(csv_file_path, encoding=encoding)\n",
    "dfPOS.info()"
   ]
  },
  {
   "cell_type": "markdown",
   "metadata": {},
   "source": [
    "Procedemos a crear el archivo solamente con filas pertenecientes a resultados POS del a cuenta 10-2672, Sportline América Colombia, la unidad más grande de la franquicia. "
   ]
  },
  {
   "cell_type": "code",
   "execution_count": 2,
   "metadata": {},
   "outputs": [
    {
     "data": {
      "text/html": [
       "<div>\n",
       "<style scoped>\n",
       "    .dataframe tbody tr th:only-of-type {\n",
       "        vertical-align: middle;\n",
       "    }\n",
       "\n",
       "    .dataframe tbody tr th {\n",
       "        vertical-align: top;\n",
       "    }\n",
       "\n",
       "    .dataframe thead th {\n",
       "        text-align: right;\n",
       "    }\n",
       "</style>\n",
       "<table border=\"1\" class=\"dataframe\">\n",
       "  <thead>\n",
       "    <tr style=\"text-align: right;\">\n",
       "      <th></th>\n",
       "      <th>CODIGO_MARCA</th>\n",
       "      <th>CANTIDAD</th>\n",
       "    </tr>\n",
       "  </thead>\n",
       "  <tbody>\n",
       "    <tr>\n",
       "      <th>count</th>\n",
       "      <td>4.676651e+06</td>\n",
       "      <td>4.821546e+06</td>\n",
       "    </tr>\n",
       "    <tr>\n",
       "      <th>mean</th>\n",
       "      <td>6.605477e+02</td>\n",
       "      <td>9.293005e-01</td>\n",
       "    </tr>\n",
       "    <tr>\n",
       "      <th>std</th>\n",
       "      <td>1.624463e+02</td>\n",
       "      <td>6.161297e-01</td>\n",
       "    </tr>\n",
       "    <tr>\n",
       "      <th>min</th>\n",
       "      <td>4.560000e+02</td>\n",
       "      <td>-1.380000e+02</td>\n",
       "    </tr>\n",
       "    <tr>\n",
       "      <th>25%</th>\n",
       "      <td>4.560000e+02</td>\n",
       "      <td>1.000000e+00</td>\n",
       "    </tr>\n",
       "    <tr>\n",
       "      <th>50%</th>\n",
       "      <td>7.890000e+02</td>\n",
       "      <td>1.000000e+00</td>\n",
       "    </tr>\n",
       "    <tr>\n",
       "      <th>75%</th>\n",
       "      <td>7.890000e+02</td>\n",
       "      <td>1.000000e+00</td>\n",
       "    </tr>\n",
       "    <tr>\n",
       "      <th>max</th>\n",
       "      <td>7.980000e+02</td>\n",
       "      <td>1.730000e+02</td>\n",
       "    </tr>\n",
       "  </tbody>\n",
       "</table>\n",
       "</div>"
      ],
      "text/plain": [
       "       CODIGO_MARCA      CANTIDAD\n",
       "count  4.676651e+06  4.821546e+06\n",
       "mean   6.605477e+02  9.293005e-01\n",
       "std    1.624463e+02  6.161297e-01\n",
       "min    4.560000e+02 -1.380000e+02\n",
       "25%    4.560000e+02  1.000000e+00\n",
       "50%    7.890000e+02  1.000000e+00\n",
       "75%    7.890000e+02  1.000000e+00\n",
       "max    7.980000e+02  1.730000e+02"
      ]
     },
     "execution_count": 2,
     "metadata": {},
     "output_type": "execute_result"
    }
   ],
   "source": [
    "# Filtrar el DataFrame para que solo queden filas donde NO_CLIENTE = \"10-2672\"\n",
    "SLA_df = dfPOS.loc[dfPOS['NO_CLIENTE'] == '10-2672'].copy()\n",
    "SLA_df.reset_index(drop=True, inplace=True)\n",
    "del dfPOS\n",
    "\n",
    "SLA_df.describe()"
   ]
  },
  {
   "cell_type": "markdown",
   "metadata": {},
   "source": [
    "Vamos a modificar la columna FECHA al tipo `timestamp` para poder extraer _features_ interesantes a la hora del análisis EDA."
   ]
  },
  {
   "cell_type": "code",
   "execution_count": 3,
   "metadata": {},
   "outputs": [
    {
     "name": "stdout",
     "output_type": "stream",
     "text": [
      "                                 0\n",
      "NO_CLIENTE                 10-2672\n",
      "FECHA          2018-01-02 00:00:00\n",
      "CODIGO_MARCA                 789.0\n",
      "NOMBRE_MODELO           703104-687\n",
      "CANTIDAD                        -1\n",
      "CODIGO_TEMP                   FA17\n",
      "WEEK_OF_YEAR               2018-00\n"
     ]
    }
   ],
   "source": [
    "# Convert the \"FECHA\" column to datetime data type\n",
    "SLA_df['FECHA'] = pd.to_datetime(SLA_df['FECHA'], format= '%Y-%m-%d')\n",
    "first_row_vertically = SLA_df.head(1).transpose()\n",
    "print(first_row_vertically)"
   ]
  },
  {
   "cell_type": "markdown",
   "metadata": {},
   "source": [
    "El próximo paso es agrupar las ventas por día, lo que nos facilita reduciendo la cantidad de datos sin perder nada de información. Esto también facilitará el análisis EDA en el próximo ciclo de laboratorio seco.  "
   ]
  },
  {
   "cell_type": "code",
   "execution_count": 4,
   "metadata": {},
   "outputs": [],
   "source": [
    "SLA_df = SLA_df.groupby(['CODIGO_MARCA', 'FECHA'])['CANTIDAD'].sum().reset_index()"
   ]
  },
  {
   "cell_type": "markdown",
   "metadata": {},
   "source": [
    "Paso seguido, crearemos varios _features_ interesantes que podemos utilizar de regresores en nuestro análisis. Estos son:\n",
    "\n",
    "1. La variable `WEEK_OF_YEAR`, que representa la semana del año (útil para la aplicación de __Prophet__)\n",
    "2. La variable `YEAR`, que representa el año\n",
    "3. La variable `MONTH`, que representa el mes\n",
    "4. La variable `XMAS`, que representa el mes donde se celebra Navidad en mucho países de la región de Northbay y las ventas tienen un efecto de dispararse"
   ]
  },
  {
   "cell_type": "code",
   "execution_count": 5,
   "metadata": {},
   "outputs": [
    {
     "name": "stdout",
     "output_type": "stream",
     "text": [
      "                                0\n",
      "CODIGO_MARCA                456.0\n",
      "FECHA         2018-01-02 00:00:00\n",
      "CANTIDAD                      892\n",
      "WEEK_OF_YEAR              2018-00\n"
     ]
    }
   ],
   "source": [
    "# Extraer la variable 'WEEK_OF_YEAR' de la columna 'FECHA'\n",
    "SLA_df['WEEK_OF_YEAR'] = SLA_df['FECHA'].dt.strftime('%Y-%U')\n",
    "first_row_vertically = SLA_df.head(1).transpose()\n",
    "print(first_row_vertically)"
   ]
  },
  {
   "cell_type": "code",
   "execution_count": 6,
   "metadata": {},
   "outputs": [],
   "source": [
    "# 1. Crear YEAR y MONTH extraidas de la columna FECHA\n",
    "SLA_df['YEAR'] = SLA_df['FECHA'].dt.year\n",
    "SLA_df['MONTH'] = SLA_df['FECHA'].dt.month_name()\n",
    "\n",
    "# 2. Crear la variable XMAS para saber que es mes de ventas de navidad =)\n",
    "SLA_df['XMAS'] = SLA_df['MONTH'].apply(lambda x: 1 if x == 'December' else 0)"
   ]
  },
  {
   "cell_type": "code",
   "execution_count": 7,
   "metadata": {},
   "outputs": [
    {
     "data": {
      "text/html": [
       "<div>\n",
       "<style scoped>\n",
       "    .dataframe tbody tr th:only-of-type {\n",
       "        vertical-align: middle;\n",
       "    }\n",
       "\n",
       "    .dataframe tbody tr th {\n",
       "        vertical-align: top;\n",
       "    }\n",
       "\n",
       "    .dataframe thead th {\n",
       "        text-align: right;\n",
       "    }\n",
       "</style>\n",
       "<table border=\"1\" class=\"dataframe\">\n",
       "  <thead>\n",
       "    <tr style=\"text-align: right;\">\n",
       "      <th></th>\n",
       "      <th>CODIGO_MARCA</th>\n",
       "      <th>FECHA</th>\n",
       "      <th>CANTIDAD</th>\n",
       "      <th>WEEK_OF_YEAR</th>\n",
       "      <th>YEAR</th>\n",
       "      <th>MONTH</th>\n",
       "      <th>XMAS</th>\n",
       "    </tr>\n",
       "  </thead>\n",
       "  <tbody>\n",
       "    <tr>\n",
       "      <th>0</th>\n",
       "      <td>456.0</td>\n",
       "      <td>2018-01-02</td>\n",
       "      <td>892</td>\n",
       "      <td>2018-00</td>\n",
       "      <td>2018</td>\n",
       "      <td>January</td>\n",
       "      <td>0</td>\n",
       "    </tr>\n",
       "    <tr>\n",
       "      <th>1</th>\n",
       "      <td>456.0</td>\n",
       "      <td>2018-01-03</td>\n",
       "      <td>782</td>\n",
       "      <td>2018-00</td>\n",
       "      <td>2018</td>\n",
       "      <td>January</td>\n",
       "      <td>0</td>\n",
       "    </tr>\n",
       "    <tr>\n",
       "      <th>2</th>\n",
       "      <td>456.0</td>\n",
       "      <td>2018-01-04</td>\n",
       "      <td>1098</td>\n",
       "      <td>2018-00</td>\n",
       "      <td>2018</td>\n",
       "      <td>January</td>\n",
       "      <td>0</td>\n",
       "    </tr>\n",
       "    <tr>\n",
       "      <th>3</th>\n",
       "      <td>456.0</td>\n",
       "      <td>2018-01-05</td>\n",
       "      <td>1765</td>\n",
       "      <td>2018-00</td>\n",
       "      <td>2018</td>\n",
       "      <td>January</td>\n",
       "      <td>0</td>\n",
       "    </tr>\n",
       "    <tr>\n",
       "      <th>4</th>\n",
       "      <td>456.0</td>\n",
       "      <td>2018-01-06</td>\n",
       "      <td>2471</td>\n",
       "      <td>2018-00</td>\n",
       "      <td>2018</td>\n",
       "      <td>January</td>\n",
       "      <td>0</td>\n",
       "    </tr>\n",
       "  </tbody>\n",
       "</table>\n",
       "</div>"
      ],
      "text/plain": [
       "   CODIGO_MARCA      FECHA  CANTIDAD WEEK_OF_YEAR  YEAR    MONTH  XMAS\n",
       "0         456.0 2018-01-02       892      2018-00  2018  January     0\n",
       "1         456.0 2018-01-03       782      2018-00  2018  January     0\n",
       "2         456.0 2018-01-04      1098      2018-00  2018  January     0\n",
       "3         456.0 2018-01-05      1765      2018-00  2018  January     0\n",
       "4         456.0 2018-01-06      2471      2018-00  2018  January     0"
      ]
     },
     "execution_count": 7,
     "metadata": {},
     "output_type": "execute_result"
    }
   ],
   "source": [
    "SLA_df.head()"
   ]
  },
  {
   "cell_type": "code",
   "execution_count": 8,
   "metadata": {},
   "outputs": [
    {
     "data": {
      "text/html": [
       "<div>\n",
       "<style scoped>\n",
       "    .dataframe tbody tr th:only-of-type {\n",
       "        vertical-align: middle;\n",
       "    }\n",
       "\n",
       "    .dataframe tbody tr th {\n",
       "        vertical-align: top;\n",
       "    }\n",
       "\n",
       "    .dataframe thead th {\n",
       "        text-align: right;\n",
       "    }\n",
       "</style>\n",
       "<table border=\"1\" class=\"dataframe\">\n",
       "  <thead>\n",
       "    <tr style=\"text-align: right;\">\n",
       "      <th></th>\n",
       "      <th>CODIGO_MARCA</th>\n",
       "      <th>FECHA</th>\n",
       "      <th>CANTIDAD</th>\n",
       "      <th>WEEK_OF_YEAR</th>\n",
       "      <th>YEAR</th>\n",
       "      <th>MONTH</th>\n",
       "      <th>XMAS</th>\n",
       "    </tr>\n",
       "  </thead>\n",
       "  <tbody>\n",
       "    <tr>\n",
       "      <th>9064</th>\n",
       "      <td>798.0</td>\n",
       "      <td>2023-06-28</td>\n",
       "      <td>53</td>\n",
       "      <td>2023-26</td>\n",
       "      <td>2023</td>\n",
       "      <td>June</td>\n",
       "      <td>0</td>\n",
       "    </tr>\n",
       "    <tr>\n",
       "      <th>9065</th>\n",
       "      <td>798.0</td>\n",
       "      <td>2023-06-29</td>\n",
       "      <td>38</td>\n",
       "      <td>2023-26</td>\n",
       "      <td>2023</td>\n",
       "      <td>June</td>\n",
       "      <td>0</td>\n",
       "    </tr>\n",
       "    <tr>\n",
       "      <th>9066</th>\n",
       "      <td>798.0</td>\n",
       "      <td>2023-06-30</td>\n",
       "      <td>43</td>\n",
       "      <td>2023-26</td>\n",
       "      <td>2023</td>\n",
       "      <td>June</td>\n",
       "      <td>0</td>\n",
       "    </tr>\n",
       "    <tr>\n",
       "      <th>9067</th>\n",
       "      <td>798.0</td>\n",
       "      <td>2023-07-01</td>\n",
       "      <td>111</td>\n",
       "      <td>2023-26</td>\n",
       "      <td>2023</td>\n",
       "      <td>July</td>\n",
       "      <td>0</td>\n",
       "    </tr>\n",
       "    <tr>\n",
       "      <th>9068</th>\n",
       "      <td>798.0</td>\n",
       "      <td>2023-07-02</td>\n",
       "      <td>120</td>\n",
       "      <td>2023-27</td>\n",
       "      <td>2023</td>\n",
       "      <td>July</td>\n",
       "      <td>0</td>\n",
       "    </tr>\n",
       "  </tbody>\n",
       "</table>\n",
       "</div>"
      ],
      "text/plain": [
       "      CODIGO_MARCA      FECHA  CANTIDAD WEEK_OF_YEAR  YEAR MONTH  XMAS\n",
       "9064         798.0 2023-06-28        53      2023-26  2023  June     0\n",
       "9065         798.0 2023-06-29        38      2023-26  2023  June     0\n",
       "9066         798.0 2023-06-30        43      2023-26  2023  June     0\n",
       "9067         798.0 2023-07-01       111      2023-26  2023  July     0\n",
       "9068         798.0 2023-07-02       120      2023-27  2023  July     0"
      ]
     },
     "execution_count": 8,
     "metadata": {},
     "output_type": "execute_result"
    }
   ],
   "source": [
    "SLA_df.tail()"
   ]
  },
  {
   "cell_type": "code",
   "execution_count": 10,
   "metadata": {},
   "outputs": [
    {
     "name": "stdout",
     "output_type": "stream",
     "text": [
      "Archivo creado con éxito en /Users/ameilij/Documents/Master Data Science/MDS/tfm/data_clean/master_POS_SLA_COL_diario.csv\n"
     ]
    }
   ],
   "source": [
    "# Guardemos el DataFrame como un archivo CSV\n",
    "output_file_path = \"/Users/ameilij/Documents/Master Data Science/MDS/tfm/data_clean/master_POS_SLA_COL_diario.csv\"\n",
    "SLA_df.to_csv(output_file_path, index=False)\n",
    "print(f\"Archivo creado con éxito en {output_file_path}\")"
   ]
  },
  {
   "cell_type": "markdown",
   "metadata": {},
   "source": [
    "Con este archivo termina el ciclo de laboratorio seco correspondiente a la creación del juego de datos de análisis de Sportline Colombia. Contamos con un excelente juego de datos para hacer un análisis EDA minucioso, que nos aporte insights concretos que aplicaremos en el entrenamiento de la data."
   ]
  },
  {
   "cell_type": "markdown",
   "metadata": {},
   "source": []
  }
 ],
 "metadata": {
  "kernelspec": {
   "display_name": "Python 3 (ipykernel)",
   "language": "python",
   "name": "python3"
  },
  "language_info": {
   "codemirror_mode": {
    "name": "ipython",
    "version": 3
   },
   "file_extension": ".py",
   "mimetype": "text/x-python",
   "name": "python",
   "nbconvert_exporter": "python",
   "pygments_lexer": "ipython3",
   "version": "3.11.5"
  }
 },
 "nbformat": 4,
 "nbformat_minor": 4
}
