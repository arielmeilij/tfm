{
 "cells": [
  {
   "cell_type": "markdown",
   "metadata": {},
   "source": [
    "### Trabajo Final Master Ciencia de Datos y Business Analytics\n",
    "## Reporte Laboratorio Seco - Creación Archivo Maestro de POS"
   ]
  },
  {
   "cell_type": "markdown",
   "metadata": {},
   "source": [
    "Actualización Septiembre 2, 2023"
   ]
  },
  {
   "cell_type": "markdown",
   "metadata": {},
   "source": [
    "### Introducción\n",
    "El siguiente análisis de laboratorio seco compone el archivo maestro de POS de los años 2018 al 2023, eliminando columnas que no se utilizarán en el entrenamiento de datos de series de tiempo. En base a este archivo maestro se crearán los diferentes archivos de entrenamiento de datos para las diferentes cuentas. "
   ]
  },
  {
   "cell_type": "code",
   "execution_count": 1,
   "metadata": {},
   "outputs": [
    {
     "name": "stderr",
     "output_type": "stream",
     "text": [
      "/var/folders/9c/f5lf7vz91zs8mwbnjbtxzjgw0000gn/T/ipykernel_14213/2517936872.py:19: DtypeWarning: Columns (5) have mixed types. Specify dtype option on import or set low_memory=False.\n",
      "  df2021 = pd.read_csv(csv_file_path, encoding=encoding)\n",
      "/var/folders/9c/f5lf7vz91zs8mwbnjbtxzjgw0000gn/T/ipykernel_14213/2517936872.py:23: DtypeWarning: Columns (5) have mixed types. Specify dtype option on import or set low_memory=False.\n",
      "  df2022 = pd.read_csv(csv_file_path, encoding=encoding)\n"
     ]
    }
   ],
   "source": [
    "# Importar y leer archivo como DF Pandas\n",
    "# Los archivos se leen de los formatos por año ya limpios\n",
    "\n",
    "import pandas as pd\n",
    "csv_file_path = '/Users/ameilij/Documents/Master Data Science/MDS/tfm/data_clean/2018_POS_clean.csv'\n",
    "encoding = 'latin1'\n",
    "df2018 = pd.read_csv(csv_file_path, encoding=encoding)\n",
    "\n",
    "csv_file_path = '/Users/ameilij/Documents/Master Data Science/MDS/tfm/data_clean/2019_POS_clean.csv'\n",
    "encoding = 'latin1'\n",
    "df2019 = pd.read_csv(csv_file_path, encoding=encoding)\n",
    "\n",
    "csv_file_path = '/Users/ameilij/Documents/Master Data Science/MDS/tfm/data_clean/2020_POS_clean.csv'\n",
    "encoding = 'latin1'\n",
    "df2020 = pd.read_csv(csv_file_path, encoding=encoding)\n",
    "\n",
    "csv_file_path = '/Users/ameilij/Documents/Master Data Science/MDS/tfm/data_clean/2021_POS_clean.csv'\n",
    "encoding = 'latin1'\n",
    "df2021 = pd.read_csv(csv_file_path, encoding=encoding)\n",
    "\n",
    "csv_file_path = '/Users/ameilij/Documents/Master Data Science/MDS/tfm/data_clean/2022_POS_clean.csv'\n",
    "encoding = 'latin1'\n",
    "df2022 = pd.read_csv(csv_file_path, encoding=encoding)\n",
    "\n",
    "csv_file_path = '/Users/ameilij/Documents/Master Data Science/MDS/tfm/data_clean/2023_POS_clean.csv'\n",
    "encoding = 'latin1'\n",
    "df2023 = pd.read_csv(csv_file_path, encoding=encoding)\n",
    "\n",
    "# Concatenar y archivar como un solo CSV\n",
    "concatenated_df = pd.concat([df2018, df2019, df2020, df2021, df2022, df2023], ignore_index=True)\n",
    "\n",
    "# Save the concatenated DataFrame to a new CSV file\n",
    "concatenated_csv_file = \"/Users/ameilij/Documents/Master Data Science/MDS/tfm/data_clean/master_POS_clean.csv\"\n",
    "concatenated_df.to_csv(concatenated_csv_file, index=False)"
   ]
  },
  {
   "cell_type": "markdown",
   "metadata": {},
   "source": [
    "## Prueba de Lectura de Archivo Maestro\n",
    "Se procede a leer el archivo maestro de POS para verificar que la información se concatenó correctamente."
   ]
  },
  {
   "cell_type": "code",
   "execution_count": 2,
   "metadata": {},
   "outputs": [
    {
     "name": "stderr",
     "output_type": "stream",
     "text": [
      "/var/folders/9c/f5lf7vz91zs8mwbnjbtxzjgw0000gn/T/ipykernel_14213/2197122528.py:3: DtypeWarning: Columns (5) have mixed types. Specify dtype option on import or set low_memory=False.\n",
      "  dfPOS = pd.read_csv(csv_file_path, encoding=encoding)\n"
     ]
    },
    {
     "name": "stdout",
     "output_type": "stream",
     "text": [
      "<class 'pandas.core.frame.DataFrame'>\n",
      "RangeIndex: 20650730 entries, 0 to 20650729\n",
      "Data columns (total 7 columns):\n",
      " #   Column         Dtype  \n",
      "---  ------         -----  \n",
      " 0   NO_CLIENTE     object \n",
      " 1   FECHA          object \n",
      " 2   CODIGO_MARCA   float64\n",
      " 3   NOMBRE_MODELO  object \n",
      " 4   CANTIDAD       int64  \n",
      " 5   CODIGO_TEMP    object \n",
      " 6   WEEK_OF_YEAR   object \n",
      "dtypes: float64(1), int64(1), object(5)\n",
      "memory usage: 1.1+ GB\n"
     ]
    }
   ],
   "source": [
    "csv_file_path = '/Users/ameilij/Documents/Master Data Science/MDS/tfm/data_clean/master_POS_clean.csv'\n",
    "encoding = 'latin1'\n",
    "dfPOS = pd.read_csv(csv_file_path, encoding=encoding)\n",
    "\n",
    "dfPOS.info()"
   ]
  },
  {
   "cell_type": "code",
   "execution_count": null,
   "metadata": {},
   "outputs": [],
   "source": []
  }
 ],
 "metadata": {
  "kernelspec": {
   "display_name": "Python 3 (ipykernel)",
   "language": "python",
   "name": "python3"
  },
  "language_info": {
   "codemirror_mode": {
    "name": "ipython",
    "version": 3
   },
   "file_extension": ".py",
   "mimetype": "text/x-python",
   "name": "python",
   "nbconvert_exporter": "python",
   "pygments_lexer": "ipython3",
   "version": "3.11.5"
  }
 },
 "nbformat": 4,
 "nbformat_minor": 2
}
