{
 "cells": [
  {
   "cell_type": "markdown",
   "id": "a1d13714-3230-4042-babf-51dc3f9d1013",
   "metadata": {},
   "source": [
    "### Trabajo Final Master Ciencia de Datos y Business Analytics\n",
    "## Reporte Laboratorio Seco - Análisis del Juego de Datos y Composición y Estructura de Datos\n",
    "*Fecha Ultima Actualización* Agosto 2023"
   ]
  },
  {
   "cell_type": "markdown",
   "id": "7fc378ea-fe26-43a9-a6c3-cb959526e6cd",
   "metadata": {},
   "source": [
    "# Introducción\n",
    "El siguiente reporte de laboratorio seco es el análisis preliminar de los juegos de datos utilizados en el TFM. El objetivo de dicho análisis es familiarizarse con la data y conocer de antemano cualquier problema o situación que amerite ajustes, cambios o ediciones al juego de datos. La empresa Northbay International entregó cinco archivos diferentes, uno por cada año de información del punto de venta recibida por los clientes. Los archivos se dividieron en cinco porque la base de datos Oracle 12C tuvo problemas exportando los cinco años en un solo archivo. \n",
    "\n",
    "Los archivos recibidos son:\n",
    "\n",
    "1. `retail_ventas_2018_4327905.txt`\n",
    "2. `retail_ventas_2019_4022432.txt`\n",
    "3. `retail_ventas_2020_2572276.txt`\n",
    "4. `retail_ventas_2021_3721009.txt`\n",
    "5. `retail_ventas_2022_4224913.txt`\n",
    "6. `retail_ventas_2023_1782196.txt`\n",
    "\n",
    "Se mencionó cinco archivos aunque se listan seis. El archivo del año 2023 se recibe incompleto y con serias dudas de su utilidad. Adicionalmente el equipo de planificación advirtió que los archivos pueden contener información de nuevos clientes a medida que se aumentaba la capacidad de proceso de la división, por lo que el crecimiento en las ventas puede estar motivado no por un crecimiento de un cliente en particular, sino por el aumento del recaudo de la información de nuevos clientes. "
   ]
  },
  {
   "cell_type": "markdown",
   "id": "c8a45369-74b3-402c-a35d-0eeb02b59809",
   "metadata": {},
   "source": [
    "# Lectura Inicial y Reconocimiento del Juego de Datos\n",
    "Se procedió a leer el primer archivo (el correspondiente a los datos del año 2018 con etiqueta `retail_ventas_2018_4327905.txt`) para conocer sus dimensiones y componentes.  "
   ]
  },
  {
   "cell_type": "code",
   "execution_count": 1,
   "id": "9d239c1d-0cc3-4054-a4c5-baf5fcdad09c",
   "metadata": {},
   "outputs": [
    {
     "name": "stderr",
     "output_type": "stream",
     "text": [
      "/var/folders/9c/f5lf7vz91zs8mwbnjbtxzjgw0000gn/T/ipykernel_6911/3445108827.py:4: DtypeWarning: Columns (2,7,8,19) have mixed types. Specify dtype option on import or set low_memory=False.\n",
      "  df = pd.read_csv(csv_file_path, encoding=encoding)\n"
     ]
    }
   ],
   "source": [
    "import pandas as pd\n",
    "csv_file_path = 'data_raw/retail_ventas_2018_4327905.txt'\n",
    "encoding = 'latin1'\n",
    "df = pd.read_csv(csv_file_path, encoding=encoding)"
   ]
  },
  {
   "cell_type": "markdown",
   "id": "3fd877b7-f16b-43d3-858d-ad81ce9000c4",
   "metadata": {},
   "source": [
    "El primer mensaje de error al leer el archivo tiene que ver con datos mixtos en las columnas 2, 7, 8 y 19. Conociendo de antemano la falta de una política de gobierno de datos, y los problemas que ha tenido el departamento de planificación logrando que los clientes normalicen su data, esto no es de sorprender. Para entender un poco mejor la condición del juego de datos, ahondamos en su composición, variables y dimensión. "
   ]
  },
  {
   "cell_type": "code",
   "execution_count": 2,
   "id": "d32aa9e8-4fa0-4721-9083-6d366db955af",
   "metadata": {},
   "outputs": [
    {
     "name": "stdout",
     "output_type": "stream",
     "text": [
      "<class 'pandas.core.frame.DataFrame'>\n",
      "RangeIndex: 4327905 entries, 0 to 4327904\n",
      "Data columns (total 27 columns):\n",
      " #   Column                Dtype  \n",
      "---  ------                -----  \n",
      " 0   GRUPO                 int64  \n",
      " 1   NO_CLIENTE            object \n",
      " 2   SUCURSAL              object \n",
      " 3   FECHA                 object \n",
      " 4   CODIGO_MARCA          float64\n",
      " 5   NOMBRE_MODELO         object \n",
      " 6   COLOR                 object \n",
      " 7   TALLA                 object \n",
      " 8   UPC                   object \n",
      " 9   PRECIO_INV            float64\n",
      " 10  PRECIO_VTA            float64\n",
      " 11  CANTIDAD              int64  \n",
      " 12  CODIGO_TEMP           object \n",
      " 13  CODIGO_COLOR          float64\n",
      " 14  VALIDO                object \n",
      " 15  TASA_CAMBIO           float64\n",
      " 16  USER_CREA             object \n",
      " 17  FECHA_CREA            object \n",
      " 18  EAN_COLOR             float64\n",
      " 19  MODELO                object \n",
      " 20  TMP_ID                float64\n",
      " 21  VENTAS                float64\n",
      " 22  COSTO                 float64\n",
      " 23  DEPT                  float64\n",
      " 24  COSTO_CIF             float64\n",
      " 25  VENTAS_MONEDA_ORIGEN  float64\n",
      " 26  TIPO_PRECIO           float64\n",
      "dtypes: float64(13), int64(2), object(12)\n",
      "memory usage: 891.5+ MB\n",
      "None\n"
     ]
    }
   ],
   "source": [
    "print(df.info())"
   ]
  },
  {
   "cell_type": "markdown",
   "id": "541223da-73e0-446f-8716-ebd5e81081fe",
   "metadata": {},
   "source": [
    "En total podemos ver que el archivo del año 2018 tiene 4,327,904 registros, cada uno con 27 columnas de diferentes datos. Muchas de las variables son conocidas de la charla exploratoria con el grupo de planificación de la empresa, pero muchas otras deben ser corroboradas para poder entender el alcance total de los datos. Una mejor forma de explorar los mismos es viendo uno ejemplo concreto de los campos. "
   ]
  },
  {
   "cell_type": "code",
   "execution_count": 3,
   "id": "0cff651d-d7ec-4eb7-9bc8-f963d09a5e11",
   "metadata": {},
   "outputs": [
    {
     "name": "stdout",
     "output_type": "stream",
     "text": [
      "                                             0\n",
      "GRUPO                                       20\n",
      "NO_CLIENTE                              02-072\n",
      "SUCURSAL                                   NC2\n",
      "FECHA                               01/31/2018\n",
      "CODIGO_MARCA                             789.0\n",
      "NOMBRE_MODELO                       905653-010\n",
      "COLOR                                  BLK/WHT\n",
      "TALLA                                      NaN\n",
      "UPC                                        NaN\n",
      "PRECIO_INV                                 0.0\n",
      "PRECIO_VTA                                60.0\n",
      "CANTIDAD                                     1\n",
      "CODIGO_TEMP                               HO17\n",
      "CODIGO_COLOR                               NaN\n",
      "VALIDO                                       N\n",
      "TASA_CAMBIO                                1.0\n",
      "USER_CREA                             SACEVEDO\n",
      "FECHA_CREA            10/07/2019 3:27:01 p. m.\n",
      "EAN_COLOR                                  NaN\n",
      "MODELO                              905653-010\n",
      "TMP_ID                                     NaN\n",
      "VENTAS                                    60.0\n",
      "COSTO                                      0.0\n",
      "DEPT                                       NaN\n",
      "COSTO_CIF                                  0.0\n",
      "VENTAS_MONEDA_ORIGEN                       0.0\n",
      "TIPO_PRECIO                                NaN\n"
     ]
    }
   ],
   "source": [
    "# revisar un registro en particular\n",
    "first_row_vertically = df.head(1).transpose()\n",
    "print(first_row_vertically)"
   ]
  },
  {
   "cell_type": "markdown",
   "id": "ad94e7e1-ba5c-4c1a-9fa8-25130695a08b",
   "metadata": {},
   "source": [
    "## Análisis y Relevamiento del Juego de Datos\n",
    "Después de haber hablado con el equipo de planificación, una de las sensaciones del alumno fue que el mismo tiene más datos de los que puede procesar, o de los que puede usar con utilidad en el momento. El equipo de planificación se quejó varias veces de lo molesto que es analizar la data de un cliente para un año particular por lo voluminosa, pero el alumno, al ver el juego de datos, teoriza que muchos de los datos incluidos tienen mucho sentido en un ERP, pero muy poco para el análisis de pronósticos de series de tiempo. Es por eso que se procede a explicar cada variable, una por una, y crear un análisis de viabilidad de las mismas (si conviene mantenerlas o eliminarlas y reducir la complejidad del juego de datos). "
   ]
  },
  {
   "cell_type": "markdown",
   "id": "13461d8c-b0fb-45c4-9cc2-d6a7b1c03ec3",
   "metadata": {},
   "source": [
    "### Variable GRUPO\n",
    "La variable `GRUPO` es una clave legado del sistema ERP de Northbay, que califica a los clientes como nacionales (con clave 10) o extranjeros (con clave 20)."
   ]
  },
  {
   "cell_type": "code",
   "execution_count": 4,
   "id": "dbbda8d7-89b0-49f6-8465-b9240dd0c833",
   "metadata": {},
   "outputs": [
    {
     "data": {
      "text/plain": [
       "count    4327905.0\n",
       "mean          20.0\n",
       "std            0.0\n",
       "min           20.0\n",
       "25%           20.0\n",
       "50%           20.0\n",
       "75%           20.0\n",
       "max           20.0\n",
       "Name: GRUPO, dtype: float64"
      ]
     },
     "execution_count": 4,
     "metadata": {},
     "output_type": "execute_result"
    }
   ],
   "source": [
    "df['GRUPO'].describe()"
   ]
  },
  {
   "cell_type": "markdown",
   "id": "5d700f45-466b-403f-afe2-5a5e1bd141af",
   "metadata": {},
   "source": [
    "La única razón de esto es para que el sistema ERP pueda diferenciar entre clientes que nacionalizan su producto dentro de la República de Panamá y deben pagar ITBM (impuesto a la transferencia de bienes muebles del 7%) o no. Las ventas al extranjero se hacen a través de la Zona Libre de Colón, que exporta libre de impuestos y cuyas ventas no pagan impuesta sobre las ganancias, ende la importancia de la diferenciación. \n",
    "\n",
    "Sin embargo, para el sistema de pronóstico esto tiene poco futuro como regresor, y su importancia es mínimo, por lo que se decide eliminar la columna del juego de entrenamiento."
   ]
  },
  {
   "cell_type": "markdown",
   "id": "b395547b-3b08-42dd-b00c-aad4d0fc2765",
   "metadata": {},
   "source": [
    "### Variable NO_CLIENTE\n",
    "La variable `NO_CLIENTE` es el número del cliente, aunque no es necesariamente un número. "
   ]
  },
  {
   "cell_type": "code",
   "execution_count": 5,
   "id": "f5a3a788-8700-479e-b62d-2407f7ce55a1",
   "metadata": {},
   "outputs": [
    {
     "data": {
      "text/plain": [
       "count     4327905\n",
       "unique         51\n",
       "top       10-2672\n",
       "freq       811033\n",
       "Name: NO_CLIENTE, dtype: object"
      ]
     },
     "execution_count": 5,
     "metadata": {},
     "output_type": "execute_result"
    }
   ],
   "source": [
    "df['NO_CLIENTE'].describe()"
   ]
  },
  {
   "cell_type": "markdown",
   "id": "f2cf52ed-d7f0-4507-b3c4-d65077036852",
   "metadata": {},
   "source": [
    "La variable es realmente una combinación de dos cifras que representan el número del país del cliente, un guión, y un número aleatorio que es en teoría el número del cliente en el país. Esta clave es importante para identificar la data de un cliente en cuestión y poder utilizarla para entrenar el pronóstico. El alumno también piensa que el número que identifica el país pudiera ser interesante como regresor en un sistema futuro, pero dado la falta de consistencia en los datos en la base de datos actual, su uso debe analizarse con mucho más detenimiento. "
   ]
  },
  {
   "cell_type": "markdown",
   "id": "cdb0493e-b76d-4b3a-be08-a9727bccb17a",
   "metadata": {},
   "source": [
    "### Variable SUCURSAL\n",
    "En teoría la variable `SUCURSAL` identifica una puerta diferente de un cliente en particular. Por ejemplo, un cliente puede comprar para más de un establecimiento y solicitar que el pedido se divida de alguna manera en diferentes porciones. De la misma manera, la data de los sistemas POS diferencia que sucursal vendió que mercancía. "
   ]
  },
  {
   "cell_type": "code",
   "execution_count": 6,
   "id": "0316b44e-c6e5-4588-ac07-194f313de827",
   "metadata": {},
   "outputs": [
    {
     "data": {
      "text/plain": [
       "count     4327905\n",
       "unique        321\n",
       "top             2\n",
       "freq       138280\n",
       "Name: SUCURSAL, dtype: int64"
      ]
     },
     "execution_count": 6,
     "metadata": {},
     "output_type": "execute_result"
    }
   ],
   "source": [
    "df['SUCURSAL'].describe()"
   ]
  },
  {
   "cell_type": "markdown",
   "id": "9a34cab6-cd98-4b47-9c79-3f07f943daae",
   "metadata": {},
   "source": [
    "El problema con la variable `SUCURSAL` es la inconsistencia. Algunos clientes tienen sucursales, algunos no. Algunos clientes tienen sucursales pero reportan su data como si no la tuvieran. Otros al actualizar sus sistemas cambian de forma imprevista los números de las sucursales, perdiendo cualquier orden o secuencia en las ventas. Por la ambiguedad de la variable, se decide eliminarla del juego de datos, ya que no aporta un valor tangible por la falta de reglas al implementarla. "
   ]
  },
  {
   "cell_type": "markdown",
   "id": "eb357acd-9845-475a-9298-7ae11fe75cd5",
   "metadata": {},
   "source": [
    "### Variable FECHA\n",
    "La variable fecha es una de las más importantes en el juego de datos, ya que estamos frente a datos que conforman una serie de tiempo. Sin embargo, en su estado natural, Python leen la columna de fecha como un objeto, y no como una estructura de fecha. Esto de por si no debiera ser un problema difícil de solventar."
   ]
  },
  {
   "cell_type": "code",
   "execution_count": 7,
   "id": "0c6f0382-d003-4ee0-a8f4-19e278f67c05",
   "metadata": {},
   "outputs": [
    {
     "data": {
      "text/plain": [
       "count        4327905\n",
       "unique           365\n",
       "top       12/30/2018\n",
       "freq           51870\n",
       "Name: FECHA, dtype: object"
      ]
     },
     "execution_count": 7,
     "metadata": {},
     "output_type": "execute_result"
    }
   ],
   "source": [
    "df['FECHA'].describe()"
   ]
  },
  {
   "cell_type": "markdown",
   "id": "774fad89-8c1c-4e06-abb5-5920ec8771b7",
   "metadata": {},
   "source": [
    "Un rápida vista al juego de datos revela 365 valores únicos, lo que no es de sorprender, tratandose de fechas en un año normal (no bisiesto). "
   ]
  },
  {
   "cell_type": "markdown",
   "id": "b111fda0-b97e-4b4e-80b1-ff4297a26e7f",
   "metadata": {},
   "source": [
    "### Variable CODIGO_MARCA\n",
    "La variable marca puede asumir tres valores: _456_ para el calzado, _789_ para la ropa, y _790_ para todo lo concerniente a equipo. Es en realidad la etiqueta que diferencia las unidades de negocio.  "
   ]
  },
  {
   "cell_type": "code",
   "execution_count": 8,
   "id": "25a6092d-57b9-4726-9f62-bb79ee4a0b4f",
   "metadata": {},
   "outputs": [
    {
     "data": {
      "text/plain": [
       "count    4.287876e+06\n",
       "mean     6.426613e+02\n",
       "std      1.656439e+02\n",
       "min      4.560000e+02\n",
       "25%      4.560000e+02\n",
       "50%      7.890000e+02\n",
       "75%      7.890000e+02\n",
       "max      7.970000e+02\n",
       "Name: CODIGO_MARCA, dtype: float64"
      ]
     },
     "execution_count": 8,
     "metadata": {},
     "output_type": "execute_result"
    }
   ],
   "source": [
    "df['CODIGO_MARCA'].describe()"
   ]
  },
  {
   "cell_type": "markdown",
   "id": "d53af62f-e9aa-4958-b178-20d1d5bd8033",
   "metadata": {},
   "source": [
    "La variable se ha archivado como un número real, y en realidad pudiera ser sustituido por un rango amplio de otras etiquetas que hagan más fácil reconocer que tipo de producto se trata. "
   ]
  },
  {
   "cell_type": "markdown",
   "id": "dd1646b1-40c1-4d56-ac35-49001ecf3894",
   "metadata": {},
   "source": [
    "### Variable NOMBRE_MODELO\n",
    "La variable nombre modelo debe contener el nombre del producto, pero al ver varios ejemplos, vemos que contiene el código del producto por alguna razón. "
   ]
  },
  {
   "cell_type": "code",
   "execution_count": 9,
   "id": "d55d6a50-086a-4423-8caa-a94ca28ce07c",
   "metadata": {},
   "outputs": [
    {
     "data": {
      "text/plain": [
       "count        4327875\n",
       "unique         22981\n",
       "top       884581-394\n",
       "freq           10044\n",
       "Name: NOMBRE_MODELO, dtype: object"
      ]
     },
     "execution_count": 9,
     "metadata": {},
     "output_type": "execute_result"
    }
   ],
   "source": [
    "df['NOMBRE_MODELO'].describe()"
   ]
  },
  {
   "cell_type": "code",
   "execution_count": 10,
   "id": "7f86ae75-c8a6-490a-9dc5-15351b6d2fe8",
   "metadata": {},
   "outputs": [
    {
     "data": {
      "text/plain": [
       "4327900    BV8016-445\n",
       "4327901    AH6803-003\n",
       "4327902    685153-100\n",
       "4327903    AO2604-600\n",
       "4327904    807471-103\n",
       "Name: NOMBRE_MODELO, dtype: object"
      ]
     },
     "execution_count": 10,
     "metadata": {},
     "output_type": "execute_result"
    }
   ],
   "source": [
    "df['NOMBRE_MODELO'].tail()"
   ]
  },
  {
   "cell_type": "code",
   "execution_count": 11,
   "id": "63354a8c-7994-438b-89af-57eee320ad7d",
   "metadata": {},
   "outputs": [
    {
     "data": {
      "text/plain": [
       "0    905653-010\n",
       "1    905653-010\n",
       "2    905653-429\n",
       "3    907254-001\n",
       "4    907254-400\n",
       "Name: NOMBRE_MODELO, dtype: object"
      ]
     },
     "execution_count": 11,
     "metadata": {},
     "output_type": "execute_result"
    }
   ],
   "source": [
    "df['NOMBRE_MODELO'].head()"
   ]
  },
  {
   "cell_type": "markdown",
   "id": "e2205fcb-76b1-4c3f-ad5c-3eebcf467fab",
   "metadata": {},
   "source": [
    "Para complicar de por si lo contraintuitivo del nombre de la variable, algunos códigos son numéricos, otros alfanuméricos. Es interesante guardar esta información en nuestro datamart para referencia futura, ya que puede ser útil si se quisieran construir modelos predictivos para productos específicos (por ejemplo, modelo predictivo para el producto BV8016-445)."
   ]
  },
  {
   "cell_type": "markdown",
   "id": "6f54032a-a637-4c8b-9962-da6a77ac5bbc",
   "metadata": {},
   "source": [
    "### Variable COLOR\n",
    "Cómo lo indica su nombre, esta variable acumula el color del producto. "
   ]
  },
  {
   "cell_type": "code",
   "execution_count": 12,
   "id": "19e026ac-2c6c-435f-bfaf-e7ddfe06fda8",
   "metadata": {},
   "outputs": [
    {
     "data": {
      "text/plain": [
       "count     4102031\n",
       "unique      32883\n",
       "top         BLACK\n",
       "freq       807014\n",
       "Name: COLOR, dtype: object"
      ]
     },
     "execution_count": 12,
     "metadata": {},
     "output_type": "execute_result"
    }
   ],
   "source": [
    "df['COLOR'].describe()"
   ]
  },
  {
   "cell_type": "code",
   "execution_count": 13,
   "id": "41887fe8-11f9-4a2b-80dd-51bd2d6a4cc8",
   "metadata": {},
   "outputs": [
    {
     "data": {
      "text/plain": [
       "0       BLK/WHT\n",
       "1       BLK/WHT\n",
       "2    BINBLU/WHT\n",
       "3     BK/WH/VLT\n",
       "4       RYL/SIL\n",
       "Name: COLOR, dtype: object"
      ]
     },
     "execution_count": 13,
     "metadata": {},
     "output_type": "execute_result"
    }
   ],
   "source": [
    "df['COLOR'].head()"
   ]
  },
  {
   "cell_type": "code",
   "execution_count": 14,
   "id": "3559bca5-9446-47bb-bb03-681dab80f290",
   "metadata": {},
   "outputs": [
    {
     "data": {
      "text/plain": [
       "4327900       NAVY\n",
       "4327901      BLACK\n",
       "4327902      WHITE\n",
       "4327903    HT PNCH\n",
       "4327904      WHITE\n",
       "Name: COLOR, dtype: object"
      ]
     },
     "execution_count": 14,
     "metadata": {},
     "output_type": "execute_result"
    }
   ],
   "source": [
    "df['COLOR'].tail()"
   ]
  },
  {
   "cell_type": "markdown",
   "id": "92db3dea-fbf6-41cf-9347-4855d202063d",
   "metadata": {},
   "source": [
    "La utilidad del color en el modelo de predicción es cuestionable, ya que diferentes clientes utilizan diferentes formas de guardar el color. Por ejemplo, algunos clientes utilizan 'BLACK' para el color negro, y otros 'BLK'. Adicionalmente, los colores NIKE están codificados en los últimos tres digitos del código, lo que hace más sencillo volver a construir la columna de colores (correctamente) utilizando el código versus lo que los diferentes clientes, cada uno utilizando su propio sistema, usó. "
   ]
  },
  {
   "cell_type": "markdown",
   "id": "5f911be9-2abf-4738-a653-c28d824bab21",
   "metadata": {},
   "source": [
    "### Variable TALLA\n",
    "La variable TALLA es la talla del producto. Luego de hablar con el equipo de planificación, la predicción de la talla que mejor se va a vender (y la predicción de _out-of-stock_ de tallas) pareciera ser uno de los problemas más críticos de la industria. Sin embargo el uso de la talla como predictor se escapa del alcance del TFM, por lo que no se utilizará en el trabajo. "
   ]
  },
  {
   "cell_type": "code",
   "execution_count": 15,
   "id": "7222db30-54bd-4465-bb94-f128b83b354d",
   "metadata": {},
   "outputs": [
    {
     "data": {
      "text/plain": [
       "count     2945709\n",
       "unique        231\n",
       "top             M\n",
       "freq       461300\n",
       "Name: TALLA, dtype: object"
      ]
     },
     "execution_count": 15,
     "metadata": {},
     "output_type": "execute_result"
    }
   ],
   "source": [
    "df['TALLA'].describe()"
   ]
  },
  {
   "cell_type": "code",
   "execution_count": 16,
   "id": "576be296-6e06-42bc-a9e8-06c4b3ba1e82",
   "metadata": {},
   "outputs": [
    {
     "data": {
      "text/plain": [
       "0    NaN\n",
       "1    NaN\n",
       "2    NaN\n",
       "3    NaN\n",
       "4    NaN\n",
       "Name: TALLA, dtype: object"
      ]
     },
     "execution_count": 16,
     "metadata": {},
     "output_type": "execute_result"
    }
   ],
   "source": [
    "df['TALLA'].head()"
   ]
  },
  {
   "cell_type": "code",
   "execution_count": 17,
   "id": "1879e39a-5aae-4d08-b4ec-0aa721d1a50d",
   "metadata": {},
   "outputs": [
    {
     "data": {
      "text/plain": [
       "4327900    11.5\n",
       "4327901       7\n",
       "4327902      10\n",
       "4327903      11\n",
       "4327904     7.5\n",
       "Name: TALLA, dtype: object"
      ]
     },
     "execution_count": 17,
     "metadata": {},
     "output_type": "execute_result"
    }
   ],
   "source": [
    "df['TALLA'].tail()"
   ]
  },
  {
   "cell_type": "markdown",
   "id": "48b56ed2-2fe6-443b-92c8-61713071ab7b",
   "metadata": {},
   "source": [
    "Adicionalmente, algunas tallas no figuran, otras aparecen como números, combinaciones antiguas, etc. Se puede ver la variedad de tallas con el siguiente comando:"
   ]
  },
  {
   "cell_type": "code",
   "execution_count": 18,
   "id": "424ef654-7503-46b3-8e43-4a727597c501",
   "metadata": {},
   "outputs": [
    {
     "data": {
      "text/plain": [
       "array([nan, 'MISC', 'M', '9.5', '9', '5', '8', '7', '8.5', '10.5', '7.5',\n",
       "       'XL', 'L', 'S', '6Y', 'XS', '11', '10', '6.5', '7C', '6', '5Y',\n",
       "       '1.5Y', '5.5', '3Y', '34C', '4.5Y', '5.5Y', '4', '6.5Y', 'LG',\n",
       "       '7Y', '25Y', '45Y', '12', '4Y', 'MU5', '10.5C', '12.5C', 'SL',\n",
       "       '3.5Y', '32D', '32DD', '5C', '1Y', '2.5Y', '8C', '13C', '32B',\n",
       "       '12C', '15Y', '11.5C', '11C', '35Y', '32C', '34B', '0', '55Y',\n",
       "       '135C', '9C', '2Y', 'U', 'L/XL', 'LX', '36C', '34', '10C', '13.5C',\n",
       "       '1', 'XXL', 'KU6', '13', 'MU7', '30', '6C', '34D', '36DD', 'MD',\n",
       "       'LA-C', 'MA-C', 'SA-C', '0-3', 'MD-E', '36D', 'MM', 'U6', 'LD-E',\n",
       "       '28', 'MA', '3', '10-12', '32', '8-9.5', '6-7.5', '12-13', '11.5',\n",
       "       'S/M', 'SM', 'M-XL', '1SIZE', 'OS', 'GRLS', 'M/L', 'BOYS', '2XL',\n",
       "       'PRO', 'L-T', 'M-L', '4XL-T', '4-5.5', 'L/X', 'M-T', '12-',\n",
       "       'XSA-C', '12.5', '36', 'M-S', '3XL', 'CUST1', '4XL', '13.5Y', '38',\n",
       "       '15', 'L-L', 'S-T', '32-32', '36-32', '34-32', '38-32', 'L-S',\n",
       "       '30-32', '15.5', 'INF 1', 'TODD', 'INF 2', 'NWBB', 'NB 0-',\n",
       "       '34-34', '36-34', '4.5', '1.5', '2', '3.5', '13.5', '2.5', 'SNAPB',\n",
       "       '7/1.8', '7/3.8', '7.', '55', '6/7.5', 'S/CH', '14', 'NWB 9',\n",
       "       '3-6M', '0-3M', '43530', '43817', '18-24', '43625', '43720', '26',\n",
       "       'ASSTD', 'UNICA', '40', '43165', '43355', '24-36', '43452',\n",
       "       '43260', '9-12', '6-9', '12-18', 'CUST2', 'CUST4', '2C', '10-',\n",
       "       '2XL-T', '44183', '8/95', '70', '90', '85', '80', '120', '110',\n",
       "       '100', '65', '50', '95', '75', '60', '8-9.', 'M-A-', '105', '115',\n",
       "       '130', '8-9', '6/75', 'M-D-', 'L-A-', '895', '6-7.', '675', 'S-A-',\n",
       "       '1213', '89.', 'SA', 'LA', 'LD', 'L-D-', '8095', '451', '6-9M',\n",
       "       '6/L', 'WU6', '3XL-T', '9-12M', '44356', '44548', '44451', '9.5C',\n",
       "       '43435', '6.5C', 'CUST3', '5.5-7', 'XL-TT', '10-11', 'L-TT', '18',\n",
       "       '44261', 'XL-T'], dtype=object)"
      ]
     },
     "execution_count": 18,
     "metadata": {},
     "output_type": "execute_result"
    }
   ],
   "source": [
    "df['TALLA'].unique()"
   ]
  },
  {
   "cell_type": "markdown",
   "id": "1f43f5f1-fe08-46fc-953c-03e67f4dffbf",
   "metadata": {},
   "source": [
    "### Variable UPC\n",
    "La variable UPC guarda el valor del código de barra del producto (del inglés, __Universal Product Code__). Para propósitos del TFM, esta variable es inútil, y dado que el código del producto ya se acumula en los datos en bruto, vemos poco valor el guardar la variable en el juego de datos revisado. "
   ]
  },
  {
   "cell_type": "code",
   "execution_count": 19,
   "id": "9ef848a6-87a7-4b02-a608-22b85baf50b7",
   "metadata": {},
   "outputs": [
    {
     "data": {
      "text/plain": [
       "count     2.817172e+06\n",
       "unique    8.448100e+04\n",
       "top       8.870000e+11\n",
       "freq      1.337880e+05\n",
       "Name: UPC, dtype: float64"
      ]
     },
     "execution_count": 19,
     "metadata": {},
     "output_type": "execute_result"
    }
   ],
   "source": [
    "df['UPC'].describe()"
   ]
  },
  {
   "cell_type": "code",
   "execution_count": 20,
   "id": "16bda6f2-9d7e-4096-9039-d5022d455369",
   "metadata": {},
   "outputs": [
    {
     "data": {
      "text/plain": [
       "4327900    882801936432\n",
       "4327901    887226243943\n",
       "4327902    887232583033\n",
       "4327903    191885361963\n",
       "4327904    886691678670\n",
       "Name: UPC, dtype: object"
      ]
     },
     "execution_count": 20,
     "metadata": {},
     "output_type": "execute_result"
    }
   ],
   "source": [
    "df['UPC'].tail()"
   ]
  },
  {
   "cell_type": "markdown",
   "id": "647e5dbb-b173-41da-b5f5-19b574ed8b91",
   "metadata": {},
   "source": [
    "### Variable PRECIO_INV\n",
    "La variable precio de inventario se utiliza solo en el caso del cliente Sportline America, y es una variable de costo. Respetando el acuerdo de uso de la base de datos, dicha variable será ignorada en el TFM. Notoriamente, esta variable aparece en negativo cuando se da el caso de una devolución."
   ]
  },
  {
   "cell_type": "code",
   "execution_count": 21,
   "id": "d0afdb3a-9f4e-4898-854c-c3c9068f3ce7",
   "metadata": {},
   "outputs": [
    {
     "data": {
      "text/plain": [
       "count    4.327905e+06\n",
       "mean     2.662860e+01\n",
       "std      3.331801e+01\n",
       "min     -4.223500e+02\n",
       "25%      0.000000e+00\n",
       "50%      1.995000e+01\n",
       "75%      4.204000e+01\n",
       "max      4.356100e+02\n",
       "Name: PRECIO_INV, dtype: float64"
      ]
     },
     "execution_count": 21,
     "metadata": {},
     "output_type": "execute_result"
    }
   ],
   "source": [
    "df['PRECIO_INV'].describe()"
   ]
  },
  {
   "cell_type": "markdown",
   "id": "f7e80011-ad93-4290-b7b9-04daa0a2b46a",
   "metadata": {},
   "source": [
    "### Variable PRECIO_VTA\n",
    "La variable PRECIO_VTA es el precio de venta del artículo en cuestión. Al igual que la variable de costo de inventario, y por respecto a la información de la empresa, dicha variable será ignorada en el TFM, aunque en la vida real es de suponer que pudiera ser una variable regresora para el pronóstico (NOTA DEL ALUMNO: asumimos que el valor y las cantidades en unidades están seriamente correlacionadas, por lo que lo correcto no sería combinarlas en un modelo predictivo). "
   ]
  },
  {
   "cell_type": "code",
   "execution_count": 22,
   "id": "0126f027-5507-4a8e-b72f-d4dfef653330",
   "metadata": {},
   "outputs": [
    {
     "data": {
      "text/plain": [
       "count    4.327905e+06\n",
       "mean     4.421152e+01\n",
       "std      3.193425e+01\n",
       "min     -2.832000e+02\n",
       "25%      2.116000e+01\n",
       "50%      3.495000e+01\n",
       "75%      5.995000e+01\n",
       "max      8.963800e+02\n",
       "Name: PRECIO_VTA, dtype: float64"
      ]
     },
     "execution_count": 22,
     "metadata": {},
     "output_type": "execute_result"
    }
   ],
   "source": [
    "df['PRECIO_VTA'].describe()"
   ]
  },
  {
   "cell_type": "markdown",
   "id": "d7008059-9c83-4d57-859b-16b7792cdaaa",
   "metadata": {},
   "source": [
    "### Variable CANTIDAD\n",
    "La variable CANTIDAD representa la venta del artículo en unidades tal cual lo reportó el sistema POS del cliente. Esta cantidad puede ser un número negativo si el sistema ingreso al inventario una devolución. "
   ]
  },
  {
   "cell_type": "code",
   "execution_count": 23,
   "id": "21d543b3-d8fc-4488-83a3-064487fa1740",
   "metadata": {},
   "outputs": [
    {
     "data": {
      "text/plain": [
       "count    4.327905e+06\n",
       "mean     1.022307e+00\n",
       "std      9.035935e-01\n",
       "min     -2.990000e+02\n",
       "25%      1.000000e+00\n",
       "50%      1.000000e+00\n",
       "75%      1.000000e+00\n",
       "max      2.990000e+02\n",
       "Name: CANTIDAD, dtype: float64"
      ]
     },
     "execution_count": 23,
     "metadata": {},
     "output_type": "execute_result"
    }
   ],
   "source": [
    "df['CANTIDAD'].describe()"
   ]
  },
  {
   "cell_type": "code",
   "execution_count": 24,
   "id": "7aec6f59-13fc-4a5e-aebd-07799b800ac9",
   "metadata": {},
   "outputs": [
    {
     "data": {
      "text/plain": [
       "0    1\n",
       "1    2\n",
       "2    4\n",
       "3    3\n",
       "4    1\n",
       "Name: CANTIDAD, dtype: int64"
      ]
     },
     "execution_count": 24,
     "metadata": {},
     "output_type": "execute_result"
    }
   ],
   "source": [
    "df['CANTIDAD'].head()"
   ]
  },
  {
   "cell_type": "markdown",
   "id": "69040d17-44e1-468e-b988-2ba45b52c4af",
   "metadata": {},
   "source": [
    "Para el trabajo con series de tiempo de ventas, la variable _CANTIDAD_ es crítica, y forma parte del juego de datos a utilizar en el modelo de predicción. "
   ]
  },
  {
   "cell_type": "markdown",
   "id": "5162c535-bb00-4ecd-b519-a958393f93da",
   "metadata": {},
   "source": [
    "### Variable CODIGO_TEMP\n",
    "La variable CODIGO_TEMP representan la temporada en la que se lanzó el producto. Por ejemplo, las zapatillas de la temporada primavera 2020 debieran tener la codificación SP20. "
   ]
  },
  {
   "cell_type": "code",
   "execution_count": 25,
   "id": "53208bd1-6cf1-42c1-b3f6-602fd550d0a2",
   "metadata": {},
   "outputs": [
    {
     "data": {
      "text/plain": [
       "count     3484834\n",
       "unique         51\n",
       "top          FA17\n",
       "freq       581025\n",
       "Name: CODIGO_TEMP, dtype: object"
      ]
     },
     "execution_count": 25,
     "metadata": {},
     "output_type": "execute_result"
    }
   ],
   "source": [
    "df['CODIGO_TEMP'].describe()"
   ]
  },
  {
   "cell_type": "markdown",
   "id": "a963e6a8-462c-4173-85ad-52ce3914286c",
   "metadata": {},
   "source": [
    "Sin embargo, un breve uso de la función `describe()` nos permite ver que no todo es tan fácil. En los cinco años de ventas que representan los datos debiera haber 20 temporadas representadas (cinco años, cuatro temporadas por año). Es de esperar que quizás exista producto antiguo de un año o dos pasados, elevando el número a 28 temporadas, pero 51 valores únicos no parece tener lógica. Para salir de la duda se devuelven todos los valores únicos. "
   ]
  },
  {
   "cell_type": "code",
   "execution_count": 26,
   "id": "47dc9303-e0bd-4929-a0c4-36bbd5f034c5",
   "metadata": {},
   "outputs": [
    {
     "data": {
      "text/plain": [
       "array(['HO17', 'FA17', 'SU17', 'HO16', 'SP17', 'FA16', 'SU16', 'HO15',\n",
       "       'FA15', 'SP15', 'SP16', 'SU15', 'SU14', nan, 'HO14', 'SU18',\n",
       "       'SP18', 'SU12', 'SP14', 'SP08', 'FA18', 'SU13', 'FA14', 'FA13',\n",
       "       'FA12', 'HO18', 'SP19', 'SP13', 'HO11', 'HO13', 'FA10', '0',\n",
       "       'SU11', 'HO12', 'SU19', 'FA11', 'FALL', 'SP11', 'FA19', 'HO19',\n",
       "       'SU10', 'SP12', 'SP09', 'SU07', 'FA08', 'SP20', 'FY16', 'FY15',\n",
       "       'FY13', 'FA7', 'FY14', 'OTRO'], dtype=object)"
      ]
     },
     "execution_count": 26,
     "metadata": {},
     "output_type": "execute_result"
    }
   ],
   "source": [
    "df['CODIGO_TEMP'].unique()"
   ]
  },
  {
   "cell_type": "markdown",
   "id": "b72caf0b-fada-468a-9a4e-1f5b538f05b6",
   "metadata": {},
   "source": [
    "Vemos en el resultado varias instancias que nos llaman bastante la atención.\n",
    "\n",
    "* Hay muchas instancias de `nan` o valores que no son númericos, a pesar que la variable es del tipo `object`.\n",
    "* Hay valores como `SP08` que en teoría significa que en el 2018 se vendió producto del 2008 (posible pero poco probable).\n",
    "* También vemos valores como `FY13` que es el año fiscal 2013, y no una temporada.\n",
    "\n",
    "Cuando se le preguntó al equipo de planificación si había alguna manera de relacionar producto con temporada, la respuesta es que si, pero solo hay archivos a partir del 2018 (el año que se comenzó a juntar datos). Por otro lado, muchos productos son estables a lo largo del tiempo. Por ejemplo el zapato AF1, ha utilizado el mismo código 315122-111 desde el año 2000, lo que hace difícil trazar la temporada de producción. "
   ]
  },
  {
   "cell_type": "code",
   "execution_count": 27,
   "id": "ab2a0f37-123c-455d-b4ee-5c0ca9b9a2fd",
   "metadata": {},
   "outputs": [
    {
     "data": {
      "text/plain": [
       "<AxesSubplot:>"
      ]
     },
     "execution_count": 27,
     "metadata": {},
     "output_type": "execute_result"
    },
    {
     "data": {
      "image/png": "[encoded data removed]",
      "text/plain": [
       "<Figure size 640x480 with 1 Axes>"
      ]
     },
     "metadata": {},
     "output_type": "display_data"
    }
   ],
   "source": [
    "df['CODIGO_TEMP'].hist(xrot=90, xlabelsize=6)"
   ]
  },
  {
   "cell_type": "markdown",
   "id": "98c7f55a-5948-4fc0-bc1d-64a674ad2dbb",
   "metadata": {},
   "source": [
    "\n",
    "Es la opinión del alumno que la temporada pudiera ser un regresor interesante de comenzar a tomar en serio y archivar adecuadamente. En el juego de datos actual, no hace mucho sentido utilizar la variable por la inconsistencia de los datos. "
   ]
  },
  {
   "cell_type": "markdown",
   "id": "6d8de951-bedf-4872-80e0-9204947dc810",
   "metadata": {},
   "source": [
    "### Variable CODIGO_COLOR\n",
    "Llama la atención la columna CODIGO_COLOR, que parece ser la repetición de la columna COLOR. Lamentablemente al inspeccionar la columna, detectamos que está vacía, y debiera descartarse del todo. "
   ]
  },
  {
   "cell_type": "code",
   "execution_count": 28,
   "id": "a3813e3d-4b7d-4c0b-8f08-e900610c38fb",
   "metadata": {},
   "outputs": [
    {
     "data": {
      "text/plain": [
       "count    0.0\n",
       "mean     NaN\n",
       "std      NaN\n",
       "min      NaN\n",
       "25%      NaN\n",
       "50%      NaN\n",
       "75%      NaN\n",
       "max      NaN\n",
       "Name: CODIGO_COLOR, dtype: float64"
      ]
     },
     "execution_count": 28,
     "metadata": {},
     "output_type": "execute_result"
    }
   ],
   "source": [
    "df['CODIGO_COLOR'].describe()"
   ]
  },
  {
   "cell_type": "code",
   "execution_count": 29,
   "id": "58f2b088-bc2b-4ca5-beb9-a1e7076be571",
   "metadata": {},
   "outputs": [
    {
     "data": {
      "text/plain": [
       "array([nan])"
      ]
     },
     "execution_count": 29,
     "metadata": {},
     "output_type": "execute_result"
    }
   ],
   "source": [
    "df['CODIGO_COLOR'].unique()"
   ]
  },
  {
   "cell_type": "markdown",
   "id": "4e9e698a-4180-464e-bafd-c977b2a29e42",
   "metadata": {},
   "source": [
    "### Variable VALIDO\n",
    "Nadie sabe que es la variable VALIDO. Uno de los programadores antiguos especula que puede haber sido una variable de prueba cuando los datos se cargaron a la base de datos Oracle 12C, pero nadie lo anotó o guardó en su momento para documentar el uso. La columna se trata de valores 'N'."
   ]
  },
  {
   "cell_type": "code",
   "execution_count": 30,
   "id": "ae13409b-4c11-4808-a426-74616d5bcab7",
   "metadata": {},
   "outputs": [
    {
     "data": {
      "text/plain": [
       "count     4327905\n",
       "unique          1\n",
       "top             N\n",
       "freq      4327905\n",
       "Name: VALIDO, dtype: object"
      ]
     },
     "execution_count": 30,
     "metadata": {},
     "output_type": "execute_result"
    }
   ],
   "source": [
    "df['VALIDO'].describe()"
   ]
  },
  {
   "cell_type": "code",
   "execution_count": 31,
   "id": "75c1aa73-8a06-4594-95ec-8950af20b8c0",
   "metadata": {},
   "outputs": [
    {
     "data": {
      "text/plain": [
       "array(['N'], dtype=object)"
      ]
     },
     "execution_count": 31,
     "metadata": {},
     "output_type": "execute_result"
    }
   ],
   "source": [
    "df['VALIDO'].unique()"
   ]
  },
  {
   "cell_type": "markdown",
   "id": "7e1fa64d-0770-48bd-8b74-fce907606c04",
   "metadata": {},
   "source": [
    "### Variable TASA_CAMBIO\n",
    "La variable TASA_CAMBIO es la tasa de cambio de la moneda del país del cliente en el caso que los datos se reporten en moneda local y se necesiten pasar a la moneda neutral (en este caso el dólar, moneda de uso común en Panamá)."
   ]
  },
  {
   "cell_type": "code",
   "execution_count": 49,
   "id": "6eefc738-925d-4b93-a171-d7d4df0de2bc",
   "metadata": {},
   "outputs": [
    {
     "data": {
      "text/plain": [
       "count    4.327905e+06\n",
       "mean     5.605608e+02\n",
       "std      1.141865e+03\n",
       "min      1.000000e+00\n",
       "25%      1.000000e+00\n",
       "50%      1.000000e+00\n",
       "75%      3.108000e+01\n",
       "max      3.270000e+03\n",
       "Name: TASA_CAMBIO, dtype: float64"
      ]
     },
     "execution_count": 49,
     "metadata": {},
     "output_type": "execute_result"
    }
   ],
   "source": [
    "df['TASA_CAMBIO'].describe()"
   ]
  },
  {
   "cell_type": "markdown",
   "id": "78490fd2-739a-4a18-80e9-f6afaac51e87",
   "metadata": {},
   "source": [
    "Esta variable funciona en combinación con la columna `VENTAS_MONEDA_ORIGEN`. "
   ]
  },
  {
   "cell_type": "markdown",
   "id": "c7c778a8-47dc-4d0f-a5cf-43b16c81ac2f",
   "metadata": {},
   "source": [
    "### Variable USER_CREA\n",
    "La variable USER_CREA registra en algunos casos cuales de los miembros del equipo de planificación subió a la base datos que información."
   ]
  },
  {
   "cell_type": "code",
   "execution_count": 32,
   "id": "89d35323-72ac-4231-922b-5eec7de65bcf",
   "metadata": {},
   "outputs": [
    {
     "data": {
      "text/plain": [
       "array(['SACEVEDO', 'LCUADRADO', 'LESLIEM', 'RDELAGUARDIA', 'AALONSO',\n",
       "       'PPAREDES'], dtype=object)"
      ]
     },
     "execution_count": 32,
     "metadata": {},
     "output_type": "execute_result"
    }
   ],
   "source": [
    "df['USER_CREA'].unique()"
   ]
  },
  {
   "cell_type": "markdown",
   "id": "0877ba77-e801-459e-9d56-49d8b7049959",
   "metadata": {},
   "source": [
    "Desde que la carga a Oracle 12C se automatizó, los datos suben siempre al sistema con la etiqueta 'LESLIEM' (el nombre de la jefa de programación Leslie Martinez)."
   ]
  },
  {
   "cell_type": "markdown",
   "id": "9db06b3b-6fec-4a8d-a026-555df7863451",
   "metadata": {},
   "source": [
    "### Variable FECHA_CREA\n",
    "La variable FECHA_CREA es la fecha de creación de los datos. Esta fecha no corresponde con la fecha de la transacción, ya que ciertos clientes envian sus datos con regularidad, pero otros más pequeños acumulan varios meses de datos antes de mandarlos. Es una fecha de registro y bitácora. "
   ]
  },
  {
   "cell_type": "code",
   "execution_count": 33,
   "id": "de4c44f7-8f0c-4883-8497-0909592941f5",
   "metadata": {},
   "outputs": [
    {
     "data": {
      "text/plain": [
       "count                       4327905\n",
       "unique                        13726\n",
       "top       04/25/2019 10:32:15 a. m.\n",
       "freq                            920\n",
       "Name: FECHA_CREA, dtype: object"
      ]
     },
     "execution_count": 33,
     "metadata": {},
     "output_type": "execute_result"
    }
   ],
   "source": [
    "df['FECHA_CREA'].describe()"
   ]
  },
  {
   "cell_type": "markdown",
   "id": "c0159a67-afbe-4a31-a457-3ce6bd6bdd1b",
   "metadata": {},
   "source": [
    "Al analizar la composición de los datos, vemos que el __timestamp__ es diferente a la fecha de transacción, ya que incluye hora (normal en el log de Oracle 12C)."
   ]
  },
  {
   "cell_type": "markdown",
   "id": "491e4158-6b0e-425b-b77c-915aad9840f8",
   "metadata": {},
   "source": [
    "### Variable EAN_COLOR\n",
    "El equipo de planificación asume que la variable EAN_COLOR fue alguna solicitud de Sportline antes de pasarse al sistema SAP actual. Pero la columna no tiene datos almacenados actualmente."
   ]
  },
  {
   "cell_type": "code",
   "execution_count": 34,
   "id": "566eb1ce-6287-45a9-b641-d607fc0cc245",
   "metadata": {},
   "outputs": [
    {
     "data": {
      "text/plain": [
       "count    0.0\n",
       "mean     NaN\n",
       "std      NaN\n",
       "min      NaN\n",
       "25%      NaN\n",
       "50%      NaN\n",
       "75%      NaN\n",
       "max      NaN\n",
       "Name: EAN_COLOR, dtype: float64"
      ]
     },
     "execution_count": 34,
     "metadata": {},
     "output_type": "execute_result"
    }
   ],
   "source": [
    "df['EAN_COLOR'].describe()"
   ]
  },
  {
   "cell_type": "code",
   "execution_count": 35,
   "id": "4a77fa41-5c22-4c9d-b615-dd63a5afef03",
   "metadata": {},
   "outputs": [
    {
     "data": {
      "text/plain": [
       "array([nan])"
      ]
     },
     "execution_count": 35,
     "metadata": {},
     "output_type": "execute_result"
    }
   ],
   "source": [
    "df['EAN_COLOR'].unique()"
   ]
  },
  {
   "cell_type": "markdown",
   "id": "467fccfb-26e0-4fa3-957f-afe6294d6f35",
   "metadata": {},
   "source": [
    "### Variable MODELO\n",
    "La variable MODELO contiene el modelo de producto, pero en vez de un nombre se vuelve a repetir el código NIKE. "
   ]
  },
  {
   "cell_type": "code",
   "execution_count": 36,
   "id": "bce10e85-d885-4be8-8ac8-1225df433e61",
   "metadata": {},
   "outputs": [
    {
     "data": {
      "text/plain": [
       "count         830129\n",
       "unique         19128\n",
       "top       884581-394\n",
       "freq            3307\n",
       "Name: MODELO, dtype: object"
      ]
     },
     "execution_count": 36,
     "metadata": {},
     "output_type": "execute_result"
    }
   ],
   "source": [
    "df['MODELO'].describe()"
   ]
  },
  {
   "cell_type": "code",
   "execution_count": 37,
   "id": "290e10c3-2fa3-45c9-9bab-2ef4cc5423cd",
   "metadata": {},
   "outputs": [
    {
     "data": {
      "text/plain": [
       "0    905653-010\n",
       "1    905653-010\n",
       "2    905653-429\n",
       "3    907254-001\n",
       "4    907254-400\n",
       "Name: MODELO, dtype: object"
      ]
     },
     "execution_count": 37,
     "metadata": {},
     "output_type": "execute_result"
    }
   ],
   "source": [
    "df['MODELO'].head()"
   ]
  },
  {
   "cell_type": "code",
   "execution_count": 38,
   "id": "1c8d114e-101b-4a62-bcbf-29d47f815e91",
   "metadata": {},
   "outputs": [
    {
     "data": {
      "text/plain": [
       "4327900    NaN\n",
       "4327901    NaN\n",
       "4327902    NaN\n",
       "4327903    NaN\n",
       "4327904    NaN\n",
       "Name: MODELO, dtype: object"
      ]
     },
     "execution_count": 38,
     "metadata": {},
     "output_type": "execute_result"
    }
   ],
   "source": [
    "df['MODELO'].tail()"
   ]
  },
  {
   "cell_type": "markdown",
   "id": "76d276e8-8f48-4ddc-af14-39f58b67ff39",
   "metadata": {},
   "source": [
    "### Variable TMP_ID\n",
    "Muy similar a la variable VALIDO, nadie recuerda para qué se utiliza TMP_ID. Por el nombre asumimos que era una variable temporal, pero en los juegos de datos aparece la columna vacía."
   ]
  },
  {
   "cell_type": "code",
   "execution_count": 39,
   "id": "1abe8b1a-9e9a-4bac-b0ef-ac9a3a20b9e2",
   "metadata": {},
   "outputs": [
    {
     "data": {
      "text/plain": [
       "count    0.0\n",
       "mean     NaN\n",
       "std      NaN\n",
       "min      NaN\n",
       "25%      NaN\n",
       "50%      NaN\n",
       "75%      NaN\n",
       "max      NaN\n",
       "Name: TMP_ID, dtype: float64"
      ]
     },
     "execution_count": 39,
     "metadata": {},
     "output_type": "execute_result"
    }
   ],
   "source": [
    "df['TMP_ID'].describe()"
   ]
  },
  {
   "cell_type": "markdown",
   "id": "d402c241-1051-47e8-8e5f-0226f86783fc",
   "metadata": {},
   "source": [
    "### Variable VENTAS\n",
    "La variable VENTAS es la extensión de las ventas (el precio de venta multiplicado por la cantidad del producto cuando se lleva más de una unidad del mismo)."
   ]
  },
  {
   "cell_type": "code",
   "execution_count": 40,
   "id": "5a9eca64-7078-471c-9d4c-c8795b5dc369",
   "metadata": {},
   "outputs": [
    {
     "data": {
      "text/plain": [
       "count    4.327905e+06\n",
       "mean     4.479924e+01\n",
       "std      5.667128e+01\n",
       "min     -6.715540e+03\n",
       "25%      2.040000e+01\n",
       "50%      3.495000e+01\n",
       "75%      5.995000e+01\n",
       "max      1.301583e+04\n",
       "Name: VENTAS, dtype: float64"
      ]
     },
     "execution_count": 40,
     "metadata": {},
     "output_type": "execute_result"
    }
   ],
   "source": [
    "df['VENTAS'].describe()"
   ]
  },
  {
   "cell_type": "markdown",
   "id": "042ddb42-384c-4944-8ebf-215377e61d83",
   "metadata": {},
   "source": [
    "Respetando la sensibilidad de los datos de ventas, esta columna no se utilizará en el TFM."
   ]
  },
  {
   "cell_type": "markdown",
   "id": "504ceaab-9205-484a-ba3c-2c6727ab6dd9",
   "metadata": {},
   "source": [
    "### Variable COSTO\n",
    "La variable COSTO es la extensión del costo del producto multiplicado por las unidades vendidas. Al igual que los datos de ventas, y por la sensibilidad de la información, no se utilizará en el TFM."
   ]
  },
  {
   "cell_type": "code",
   "execution_count": 41,
   "id": "402c135e-5e2a-48a6-8def-2e5f7b404883",
   "metadata": {},
   "outputs": [
    {
     "data": {
      "text/plain": [
       "count    4.327905e+06\n",
       "mean     3.553697e+00\n",
       "std      1.935179e+01\n",
       "min     -2.384200e+02\n",
       "25%      0.000000e+00\n",
       "50%      0.000000e+00\n",
       "75%      0.000000e+00\n",
       "max      7.693300e+02\n",
       "Name: COSTO, dtype: float64"
      ]
     },
     "execution_count": 41,
     "metadata": {},
     "output_type": "execute_result"
    }
   ],
   "source": [
    "df['COSTO'].describe()"
   ]
  },
  {
   "cell_type": "markdown",
   "id": "76b10f94-7781-4596-9d35-07c2a184413e",
   "metadata": {},
   "source": [
    "### Variable DEPT\n",
    "La varibale DEPT puede asumir el valor 1 o 2. Lamentablemente nadie en el equipo de planificación recuerda que significa o porqué se incluyó. Solo algunos registros tienen un valor en la columna DEPT."
   ]
  },
  {
   "cell_type": "code",
   "execution_count": 42,
   "id": "d53a3324-3001-4fac-9ecf-8cfb182d977f",
   "metadata": {},
   "outputs": [
    {
     "data": {
      "text/plain": [
       "count    1.649154e+06\n",
       "mean     1.336290e+00\n",
       "std      4.724396e-01\n",
       "min      1.000000e+00\n",
       "25%      1.000000e+00\n",
       "50%      1.000000e+00\n",
       "75%      2.000000e+00\n",
       "max      2.000000e+00\n",
       "Name: DEPT, dtype: float64"
      ]
     },
     "execution_count": 42,
     "metadata": {},
     "output_type": "execute_result"
    }
   ],
   "source": [
    "df['DEPT'].describe()"
   ]
  },
  {
   "cell_type": "code",
   "execution_count": 43,
   "id": "d06190fe-d9c3-4c3e-9ea3-6fcf8ea13267",
   "metadata": {},
   "outputs": [
    {
     "data": {
      "text/plain": [
       "0   NaN\n",
       "1   NaN\n",
       "2   NaN\n",
       "3   NaN\n",
       "4   NaN\n",
       "Name: DEPT, dtype: float64"
      ]
     },
     "execution_count": 43,
     "metadata": {},
     "output_type": "execute_result"
    }
   ],
   "source": [
    "df['DEPT'].head()"
   ]
  },
  {
   "cell_type": "code",
   "execution_count": 44,
   "id": "67ad93d0-cd8f-4ed8-b85e-83421cf5a0ca",
   "metadata": {},
   "outputs": [
    {
     "data": {
      "text/plain": [
       "4327900   NaN\n",
       "4327901   NaN\n",
       "4327902   NaN\n",
       "4327903   NaN\n",
       "4327904   NaN\n",
       "Name: DEPT, dtype: float64"
      ]
     },
     "execution_count": 44,
     "metadata": {},
     "output_type": "execute_result"
    }
   ],
   "source": [
    "df['DEPT'].tail()"
   ]
  },
  {
   "cell_type": "code",
   "execution_count": 45,
   "id": "3e6bec3a-b7d5-415c-a973-d7bf6bf74804",
   "metadata": {},
   "outputs": [
    {
     "data": {
      "text/plain": [
       "<AxesSubplot:>"
      ]
     },
     "execution_count": 45,
     "metadata": {},
     "output_type": "execute_result"
    },
    {
     "data": {
      "image/png": "[encoded data removed]",
      "text/plain": [
       "<Figure size 640x480 with 1 Axes>"
      ]
     },
     "metadata": {},
     "output_type": "display_data"
    }
   ],
   "source": [
    "df['DEPT'].hist()"
   ]
  },
  {
   "cell_type": "markdown",
   "id": "2042bd0c-32da-4f33-83e4-2af0d0b77639",
   "metadata": {},
   "source": [
    "### Variable COSTO_CIF\n",
    "La variable COSTO_CIF representa el valor del costo incluyendo fletes pero excluyendo gastos de operaciones y nacionalización. A pesar de ser un valor interesante, la columna se registra vacía (probablemente por ser información sensible no se hubiera utilizado en el TFM de cualquier modo)."
   ]
  },
  {
   "cell_type": "code",
   "execution_count": 46,
   "id": "c8c1d52d-c5ac-4719-aede-e7351f5f4ba5",
   "metadata": {},
   "outputs": [
    {
     "data": {
      "text/plain": [
       "count    794002.0\n",
       "mean          0.0\n",
       "std           0.0\n",
       "min           0.0\n",
       "25%           0.0\n",
       "50%           0.0\n",
       "75%           0.0\n",
       "max           0.0\n",
       "Name: COSTO_CIF, dtype: float64"
      ]
     },
     "execution_count": 46,
     "metadata": {},
     "output_type": "execute_result"
    }
   ],
   "source": [
    "df['COSTO_CIF'].describe()"
   ]
  },
  {
   "cell_type": "markdown",
   "id": "bf056cbf-cba0-4e61-82f9-dda77072098b",
   "metadata": {},
   "source": [
    "### Variable VENTAS_MONEDA_ORIGEN\n",
    "No todas las cuentas registran sus ventas en moneda local, pero aquellos que lo hacen combinan esta cantidad con la columna TASA_CAMBIO. Esta información es sensible y no se utilizará en el TFM."
   ]
  },
  {
   "cell_type": "code",
   "execution_count": 47,
   "id": "80ea6103-91d1-4c4f-9149-4ae016a70475",
   "metadata": {},
   "outputs": [
    {
     "data": {
      "text/plain": [
       "count    794002.000000\n",
       "mean       6264.247924\n",
       "std       16425.406708\n",
       "min     -300442.500000\n",
       "25%           0.000000\n",
       "50%           0.000000\n",
       "75%           0.000000\n",
       "max      916428.000000\n",
       "Name: VENTAS_MONEDA_ORIGEN, dtype: float64"
      ]
     },
     "execution_count": 47,
     "metadata": {},
     "output_type": "execute_result"
    }
   ],
   "source": [
    "df['VENTAS_MONEDA_ORIGEN'].describe()"
   ]
  },
  {
   "cell_type": "markdown",
   "id": "ce0f4aac-8c3d-4513-88db-017ac90ece50",
   "metadata": {},
   "source": [
    "### Variable TIPO_PRECIO\n",
    "La variable TIPO_PRECIO es una variable que descrimina el tipo de precio utilizado en la venta. El equipo de planificación esperaba diferenciar precios de oferta de precios de linea con esta columna, pero a pesar de tener un espacio en la estructura de datos, no se ha podido utilizar aún, y se encuentra vacía."
   ]
  },
  {
   "cell_type": "code",
   "execution_count": 48,
   "id": "a24f5a2c-4ac2-4ae9-8444-571225d55c7d",
   "metadata": {},
   "outputs": [
    {
     "data": {
      "text/plain": [
       "count    0.0\n",
       "mean     NaN\n",
       "std      NaN\n",
       "min      NaN\n",
       "25%      NaN\n",
       "50%      NaN\n",
       "75%      NaN\n",
       "max      NaN\n",
       "Name: TIPO_PRECIO, dtype: float64"
      ]
     },
     "execution_count": 48,
     "metadata": {},
     "output_type": "execute_result"
    }
   ],
   "source": [
    "df['TIPO_PRECIO'].describe()"
   ]
  },
  {
   "cell_type": "markdown",
   "id": "0b329eb8-57c2-42ff-b2e5-d12958c4db5e",
   "metadata": {},
   "source": [
    "# Análisis del Juego de Datos: Crítica y Uso\n",
    "Es interesante ver la cantidad de datos que ha podido acumular el departamento de planificación para el uso posterior. Sin embargo, la cantidad de datos no es necesaria para el nivel de análisis comercial que hace el equipo. El juego de datos tiene demansiadas variables que no se utilizarán nunca, como ser los códigos EAN y el código EAN de color. Adicionalmente hay muchos parámetros repetidos. Por ejemplo, el color aparece inserto en el nombre del producto (que en realidad es un código), en el nombre del color, en el código del color, y una última vez dentro del código que representa el modelo del artículo (a su vez una repetición en muchos casos innecesaria de la variable nombre del modelo). \n",
    "\n",
    "Estos juegos de datos se pueden reducir en volumen mucho, sin alterar para nada su valor. En una base de datos normalizada, probablemente con solo guardar el código del producto, se pudiera mover el resto de la información a claves foráneas de bases de atributos como temporada, códigos EAN, etc. En un mundo moderno los archivos no pesan mucho, pero el equipo de planificación no cuenta con las herramientas para procesar archivos de cuatro millones de filas. Inclusive la base de datos Oracle 12C tuvo problemas exportando los archivos. Crear un datamart de archivos limpios para el análisis de series de tiempo, planificación y pronóstico de la demanda tiene todo el sentido del mundo, y probablemente sea el mejor uso de los datos para el equipo de análisis.\n",
    "\n",
    "¿Qué datos son claves y esenciales? Esa decisión queda no para este ciclo de laboratorio, sino para el próximo donde se decidirá el formato final de los archivos de análisis para el entrenamiento de datos. "
   ]
  },
  {
   "cell_type": "code",
   "execution_count": null,
   "id": "1327a6fe-81ef-4d70-baf2-1166fd4e3c1b",
   "metadata": {},
   "outputs": [],
   "source": []
  }
 ],
 "metadata": {
  "kernelspec": {
   "display_name": "Python 3 (ipykernel)",
   "language": "python",
   "name": "python3"
  },
  "language_info": {
   "codemirror_mode": {
    "name": "ipython",
    "version": 3
   },
   "file_extension": ".py",
   "mimetype": "text/x-python",
   "name": "python",
   "nbconvert_exporter": "python",
   "pygments_lexer": "ipython3",
   "version": "3.11.5"
  }
 },
 "nbformat": 4,
 "nbformat_minor": 5
}
